{
  "nbformat": 4,
  "nbformat_minor": 0,
  "metadata": {
    "colab": {
      "provenance": [],
      "authorship_tag": "ABX9TyOEbvGgUkRLwLqXb+xqtB8Q",
      "include_colab_link": true
    },
    "kernelspec": {
      "name": "python3",
      "display_name": "Python 3"
    },
    "language_info": {
      "name": "python"
    }
  },
  "cells": [
    {
      "cell_type": "markdown",
      "metadata": {
        "id": "view-in-github",
        "colab_type": "text"
      },
      "source": [
        "<a href=\"https://colab.research.google.com/github/KarbivnychyiVolodymyr/machine_learning/blob/main/%D0%9A%D0%B0%D1%80%D0%B1%D1%96%D0%B2%D0%BD%D0%B8%D1%87%D0%B8%D0%B9_%D0%BF%D1%80_1.ipynb\" target=\"_parent\"><img src=\"https://colab.research.google.com/assets/colab-badge.svg\" alt=\"Open In Colab\"/></a>"
      ]
    },
    {
      "cell_type": "markdown",
      "source": [
        "варіант 13"
      ],
      "metadata": {
        "id": "HGjD_0OrapWs"
      }
    },
    {
      "cell_type": "code",
      "execution_count": null,
      "metadata": {
        "colab": {
          "base_uri": "https://localhost:8080/"
        },
        "id": "KhjPxr5hIjy6",
        "outputId": "1dc66899-dc8c-4c75-bd29-1d3522429e13"
      },
      "outputs": [
        {
          "output_type": "stream",
          "name": "stdout",
          "text": [
            "[    1     2     4     8    16    32    64   128   256   512  1024  2048\n",
            "  4096  8192 16384]\n"
          ]
        }
      ],
      "source": [
        "'''Завдання 1\n",
        "Створіть одновимірний масив (вектор) зі зростаючою геометричною прогресією, де\n",
        "кожне наступне число більше попереднього в 2 рази, починаючи з 2, та виведіть його\n",
        "значення'''\n",
        "\n",
        "import numpy as np\n",
        "\n",
        "vector = np.array([2**i for i in range(15)])\n",
        "print(vector)\n"
      ]
    },
    {
      "cell_type": "code",
      "source": [
        "'''Завдання 2\n",
        "Створіть двовимірний масив (матрицю) розміром 3x3, заповніть його оберненими\n",
        "значеннями натуральних чисел, починаючи з 1, та виведіть його значення.'''\n",
        "\n",
        "import numpy as np\n",
        "\n",
        "matrix = 1 / np.arange(1, 10).reshape(3, 3)\n",
        "print(matrix)\n"
      ],
      "metadata": {
        "colab": {
          "base_uri": "https://localhost:8080/"
        },
        "id": "vfzmcF75bM9q",
        "outputId": "ef26df77-20da-470b-8304-b3ca096b2b54"
      },
      "execution_count": null,
      "outputs": [
        {
          "output_type": "stream",
          "name": "stdout",
          "text": [
            "[[1.         0.5        0.33333333]\n",
            " [0.25       0.2        0.16666667]\n",
            " [0.14285714 0.125      0.11111111]]\n"
          ]
        }
      ]
    },
    {
      "cell_type": "code",
      "source": [
        "'''Завдання 3\n",
        "Створіть масив розміром 3x3, заповніть його випадковими дійсними числами в\n",
        "діапазоні від -3 до 3 та знайдіть максимальний елемент'''\n",
        "\n",
        "import numpy as np\n",
        "\n",
        "matrix = np.random.uniform(-3, 3, (3, 3))\n",
        "max_element = np.max(matrix)\n",
        "\n",
        "print(matrix)\n",
        "print(\"Максимальний елемент:\", max_element)\n"
      ],
      "metadata": {
        "colab": {
          "base_uri": "https://localhost:8080/"
        },
        "id": "H7wbW1e-bYM7",
        "outputId": "e891b4d4-7a03-4c24-8a5f-49337129dd04"
      },
      "execution_count": null,
      "outputs": [
        {
          "output_type": "stream",
          "name": "stdout",
          "text": [
            "[[ 2.00811794  1.16790542 -2.41660925]\n",
            " [-2.62051285 -0.01934719  2.22883133]\n",
            " [ 1.89166089 -1.20488842  0.50666553]]\n",
            "Максимальний елемент: 2.2288313275172493\n"
          ]
        }
      ]
    },
    {
      "cell_type": "code",
      "source": [
        "'''Завдання 4\n",
        "Створіть масив розміром 3x3, заповніть його випадковими дійсними числами в\n",
        "діапазоні від 0 до 1 та знайдіть вектор-стовпчик, що містить суму елементів кожного\n",
        "стовпця, менших за 0.5.'''\n",
        "\n",
        "import numpy as np\n",
        "\n",
        "matrix = np.random.uniform(0, 1, (3, 3))\n",
        "vector = np.sum(matrix * (matrix < 0.5), axis=0)\n",
        "\n",
        "print(matrix)\n",
        "print(\"Вектор-стовпчик із сумами елементів, менших за 0.5:\", vector)\n"
      ],
      "metadata": {
        "colab": {
          "base_uri": "https://localhost:8080/"
        },
        "id": "VSfX76eNbdiL",
        "outputId": "66195ea9-f579-4e1d-9937-48e91aaa6c1d"
      },
      "execution_count": null,
      "outputs": [
        {
          "output_type": "stream",
          "name": "stdout",
          "text": [
            "[[0.8327666  0.86262428 0.21123408]\n",
            " [0.77758024 0.61186016 0.92255141]\n",
            " [0.46725819 0.34007158 0.94967417]]\n",
            "Вектор-стовпчик із сумами елементів, менших за 0.5: [0.46725819 0.34007158 0.21123408]\n"
          ]
        }
      ]
    },
    {
      "cell_type": "code",
      "source": [
        "'''Завдання 5\n",
        "Створіть два одновимірних масиви розміром 6, заповніть їх випадковими дійсними\n",
        "числами від -2 до 2 та виконайте на них поелементні операції додавання, віднімання\n",
        "та множення'''\n",
        "\n",
        "import numpy as np\n",
        "\n",
        "array1 = np.random.uniform(-2, 2, 6)\n",
        "array2 = np.random.uniform(-2, 2, 6)\n",
        "\n",
        "addition = array1 + array2\n",
        "subtraction = array1 - array2\n",
        "multiplication = array1 * array2\n",
        "\n",
        "print(\"Масив 1:\", array1)\n",
        "print(\"Масив 2:\", array2)\n",
        "print(\"Додавання:\", addition)\n",
        "print(\"Віднімання:\", subtraction)\n",
        "print(\"Множення:\", multiplication)\n"
      ],
      "metadata": {
        "colab": {
          "base_uri": "https://localhost:8080/"
        },
        "id": "QotyCT9ObdqY",
        "outputId": "4c4eeb70-b604-4c2e-9f39-b5fb9ea2f9fe"
      },
      "execution_count": null,
      "outputs": [
        {
          "output_type": "stream",
          "name": "stdout",
          "text": [
            "Масив 1: [-0.12599378 -1.56850528 -1.19072853 -0.13679117  0.10423816 -1.65022205]\n",
            "Масив 2: [ 0.01963057  1.41199448 -1.20795266 -1.20040722 -1.21943449  1.08681491]\n",
            "Додавання: [-0.10636322 -0.1565108  -2.39868119 -1.33719839 -1.11519633 -0.56340714]\n",
            "Віднімання: [-0.14562435 -2.98049975  0.01722414  1.06361605  1.32367265 -2.73703697]\n",
            "Множення: [-0.00247333 -2.21472079  1.4383437   0.16420511 -0.12711161 -1.79348594]\n"
          ]
        }
      ]
    },
    {
      "cell_type": "code",
      "source": [
        "'''Завдання 6\n",
        "Створіть дві матриці 4x4, заповніть їх довільними цілими числами від 1 до 5 та\n",
        "знайдіть їх добуток.'''\n",
        "\n",
        "import numpy as np\n",
        "\n",
        "matrix1 = np.random.randint(1, 6, (4, 4))\n",
        "matrix2 = np.random.randint(1, 6, (4, 4))\n",
        "\n",
        "product = np.dot(matrix1, matrix2)\n",
        "\n",
        "print(\"Матриця 1:\")\n",
        "print(matrix1)\n",
        "print(\"Матриця 2:\")\n",
        "print(matrix2)\n",
        "print(\"Добуток матриць:\")\n",
        "print(product)\n"
      ],
      "metadata": {
        "colab": {
          "base_uri": "https://localhost:8080/"
        },
        "id": "AwwJIOpgbdsh",
        "outputId": "2b94b13e-99f6-4414-fa16-72b0256b4f4a"
      },
      "execution_count": null,
      "outputs": [
        {
          "output_type": "stream",
          "name": "stdout",
          "text": [
            "Матриця 1:\n",
            "[[1 4 5 4]\n",
            " [2 3 1 5]\n",
            " [2 4 1 2]\n",
            " [4 1 5 3]]\n",
            "Матриця 2:\n",
            "[[1 2 4 2]\n",
            " [5 1 2 4]\n",
            " [5 3 4 3]\n",
            " [4 1 1 5]]\n",
            "Добуток матриць:\n",
            "[[62 25 36 53]\n",
            " [42 15 23 44]\n",
            " [35 13 22 33]\n",
            " [46 27 41 42]]\n"
          ]
        }
      ]
    },
    {
      "cell_type": "code",
      "source": [
        "'''Завдання 7\n",
        "Створіть дві матриці розміром 3x2 та 2x2, заповніть їх випадковими цілими числами\n",
        "в діапазоні від 1 до 8 та перемножте їх між собою.'''\n",
        "import numpy as np\n",
        "\n",
        "matrix1 = np.random.randint(1, 9, (3, 2))\n",
        "matrix2 = np.random.randint(1, 9, (2, 2))\n",
        "\n",
        "product = np.dot(matrix1, matrix2)\n",
        "\n",
        "print(\"Матриця 1:\")\n",
        "print(matrix1)\n",
        "print(\"Матриця 2:\")\n",
        "print(matrix2)\n",
        "print(\"Добуток матриць:\")\n",
        "print(product)\n"
      ],
      "metadata": {
        "colab": {
          "base_uri": "https://localhost:8080/"
        },
        "id": "gkGKIs29bdvE",
        "outputId": "87881e0c-8aa2-46c2-d5de-61168a40b5a9"
      },
      "execution_count": null,
      "outputs": [
        {
          "output_type": "stream",
          "name": "stdout",
          "text": [
            "Матриця 1:\n",
            "[[2 7]\n",
            " [7 6]\n",
            " [1 5]]\n",
            "Матриця 2:\n",
            "[[3 4]\n",
            " [8 2]]\n",
            "Добуток матриць:\n",
            "[[62 22]\n",
            " [69 40]\n",
            " [43 14]]\n"
          ]
        }
      ]
    },
    {
      "cell_type": "code",
      "source": [
        "'''Завдання 8\n",
        "Створіть матрицю розміром 2x2, заповніть її випадковими цілими числами в діапазоні\n",
        "від 1 до 15 та знайдіть її обернену матрицю.'''\n",
        "\n",
        "import numpy as np\n",
        "\n",
        "matrix = np.random.randint(1, 16, (2, 2))\n",
        "inverse_matrix = np.linalg.inv(matrix)\n",
        "\n",
        "print(\"Матриця:\")\n",
        "print(matrix)\n",
        "print(\"Обернена матриця:\")\n",
        "print(inverse_matrix)\n"
      ],
      "metadata": {
        "colab": {
          "base_uri": "https://localhost:8080/"
        },
        "id": "d9CfjnT4bdxd",
        "outputId": "ef9df5ec-9617-49b4-9155-216d03a8ae91"
      },
      "execution_count": null,
      "outputs": [
        {
          "output_type": "stream",
          "name": "stdout",
          "text": [
            "Матриця:\n",
            "[[1 8]\n",
            " [8 4]]\n",
            "Обернена матриця:\n",
            "[[-0.06666667  0.13333333]\n",
            " [ 0.13333333 -0.01666667]]\n"
          ]
        }
      ]
    },
    {
      "cell_type": "code",
      "source": [
        "'''Завдання 9\n",
        "Створіть матрицю розміром 7x3, заповніть її випадковими дійсними числами в\n",
        "діапазоні від 0 до 1 та транспонуйте її.'''\n",
        "\n",
        "import numpy as np\n",
        "\n",
        "matrix = np.random.uniform(0, 1, (7, 3))\n",
        "transposed_matrix = np.transpose(matrix)\n",
        "\n",
        "print(\"Матриця:\")\n",
        "print(matrix)\n",
        "print(\"Транспонована матриця:\")\n",
        "print(transposed_matrix)\n"
      ],
      "metadata": {
        "colab": {
          "base_uri": "https://localhost:8080/"
        },
        "id": "x-vEy7pnbdzl",
        "outputId": "890ef6bb-6f34-4ca8-c493-d47f79faa850"
      },
      "execution_count": null,
      "outputs": [
        {
          "output_type": "stream",
          "name": "stdout",
          "text": [
            "Матриця:\n",
            "[[0.36696995 0.08055804 0.51685052]\n",
            " [0.1497519  0.95250632 0.90297543]\n",
            " [0.00502036 0.44198141 0.31885683]\n",
            " [0.77824762 0.26067313 0.86831501]\n",
            " [0.9370119  0.51790502 0.27151507]\n",
            " [0.18106808 0.34360996 0.6706152 ]\n",
            " [0.64175228 0.36659548 0.97222291]]\n",
            "Транспонована матриця:\n",
            "[[0.36696995 0.1497519  0.00502036 0.77824762 0.9370119  0.18106808\n",
            "  0.64175228]\n",
            " [0.08055804 0.95250632 0.44198141 0.26067313 0.51790502 0.34360996\n",
            "  0.36659548]\n",
            " [0.51685052 0.90297543 0.31885683 0.86831501 0.27151507 0.6706152\n",
            "  0.97222291]]\n"
          ]
        }
      ]
    },
    {
      "cell_type": "code",
      "source": [
        "'''Завдання 10\n",
        "Створіть матрицю розміром 3x4 та вектор розміром 4x1, заповніть матрицю\n",
        "випадковими цілими числами в діапазоні від 1 до 10, а вектор - випадковими дійсними\n",
        "числами від 0 до 1, і знайдіть добуток матриці на вектор.'''\n",
        "\n",
        "import numpy as np\n",
        "\n",
        "matrix = np.random.randint(1, 11, (3, 4))\n",
        "vector = np.random.uniform(0, 1, (4, 1))\n",
        "\n",
        "product = np.dot(matrix, vector)\n",
        "\n",
        "print(\"Матриця:\")\n",
        "print(matrix)\n",
        "print(\"Вектор:\")\n",
        "print(vector)\n",
        "print(\"Добуток матриці на вектор:\")\n",
        "print(product)\n"
      ],
      "metadata": {
        "colab": {
          "base_uri": "https://localhost:8080/"
        },
        "id": "Q95k0ZPEbd16",
        "outputId": "40a1e957-99c9-4df3-cdfc-af40ff297f7f"
      },
      "execution_count": null,
      "outputs": [
        {
          "output_type": "stream",
          "name": "stdout",
          "text": [
            "Матриця:\n",
            "[[ 9  2  2  7]\n",
            " [ 2  8  6  1]\n",
            " [ 4  7  9 10]]\n",
            "Вектор:\n",
            "[[0.8610647 ]\n",
            " [0.6226721 ]\n",
            " [0.39418334]\n",
            " [0.30935464]]\n",
            "Добуток матриці на вектор:\n",
            "[[11.94877564]\n",
            " [ 9.37796091]\n",
            " [14.44415998]]\n"
          ]
        }
      ]
    },
    {
      "cell_type": "code",
      "source": [
        "'''Завдання 11\n",
        "Створіть матрицю розміром 2x3 та вектор розміром 3x1, заповніть матрицю\n",
        "випадковими дійсними числами від 0 до 1, а вектор - випадковими дійсними числами\n",
        "від 0 до 1, і знайдіть добуток матриці на вектор.'''\n",
        "\n",
        "import numpy as np\n",
        "\n",
        "matrix = np.random.uniform(0, 1, (2, 3))\n",
        "vector = np.random.uniform(0, 1, (3, 1))\n",
        "\n",
        "product = np.dot(matrix, vector)\n",
        "\n",
        "print(\"Матриця:\")\n",
        "print(matrix)\n",
        "print(\"Вектор:\")\n",
        "print(vector)\n",
        "print(\"Добуток матриці на вектор:\")\n",
        "print(product)\n"
      ],
      "metadata": {
        "colab": {
          "base_uri": "https://localhost:8080/"
        },
        "id": "xZs5z8afbd4L",
        "outputId": "f4d478ac-4218-413f-b3d6-59c5f6f85cc9"
      },
      "execution_count": null,
      "outputs": [
        {
          "output_type": "stream",
          "name": "stdout",
          "text": [
            "Матриця:\n",
            "[[0.16285305 0.48614708 0.77422695]\n",
            " [0.14155719 0.18587873 0.82612108]]\n",
            "Вектор:\n",
            "[[0.73337877]\n",
            " [0.86916643]\n",
            " [0.18124701]]\n",
            "Добуток матриці на вектор:\n",
            "[[0.68230202]\n",
            " [0.41510656]]\n"
          ]
        }
      ]
    },
    {
      "cell_type": "code",
      "source": [
        "'''Завдання 12\n",
        "Створіть дві матриці розміром 6x6, заповніть їх випадковими цілими числами в\n",
        "діапазоні від 1 до 10 та знайдіть їхню суму.'''\n",
        "\n",
        "import numpy as np\n",
        "\n",
        "matrix1 = np.random.randint(1, 11, (6, 6))\n",
        "matrix2 = np.random.randint(1, 11, (6, 6))\n",
        "\n",
        "sum_matrix = matrix1 + matrix2\n",
        "\n",
        "print(\"Матриця 1:\")\n",
        "print(matrix1)\n",
        "print(\"Матриця 2:\")\n",
        "print(matrix2)\n",
        "print(\"Сума матриць:\")\n",
        "print(sum_matrix)\n"
      ],
      "metadata": {
        "colab": {
          "base_uri": "https://localhost:8080/"
        },
        "id": "jevL4Gpubd6h",
        "outputId": "837942c6-edcf-4fb5-f55c-dee79a80c313"
      },
      "execution_count": null,
      "outputs": [
        {
          "output_type": "stream",
          "name": "stdout",
          "text": [
            "Матриця 1:\n",
            "[[ 9  9  3  5  3 10]\n",
            " [ 9  1  6  2  1  3]\n",
            " [10  7  8 10 10  8]\n",
            " [ 6  9  1  8  2  7]\n",
            " [ 6  7  8  9 10  8]\n",
            " [ 9  8  7  2  6 10]]\n",
            "Матриця 2:\n",
            "[[ 8  4  8  5  3  9]\n",
            " [ 7  1  6  8  4  4]\n",
            " [ 6  6  5  9  3  3]\n",
            " [ 1  7  4  1 10  1]\n",
            " [ 3  8  2  5  9  3]\n",
            " [ 8  9  3 10  9 10]]\n",
            "Сума матриць:\n",
            "[[17 13 11 10  6 19]\n",
            " [16  2 12 10  5  7]\n",
            " [16 13 13 19 13 11]\n",
            " [ 7 16  5  9 12  8]\n",
            " [ 9 15 10 14 19 11]\n",
            " [17 17 10 12 15 20]]\n"
          ]
        }
      ]
    },
    {
      "cell_type": "code",
      "source": [
        "'''Завдання 13\n",
        "Створіть дві матриці розміром 3x3, заповніть їх випадковими дійсними числами в\n",
        "діапазоні від 0 до 1 та знайдіть добуток їх елементів'''\n",
        "\n",
        "import numpy as np\n",
        "\n",
        "matrix1 = np.random.uniform(0, 1, (3, 3))\n",
        "matrix2 = np.random.uniform(0, 1, (3, 3))\n",
        "\n",
        "product_elements = np.multiply(matrix1, matrix2)\n",
        "\n",
        "print(\"Матриця 1:\")\n",
        "print(matrix1)\n",
        "print(\"Матриця 2:\")\n",
        "print(matrix2)\n",
        "print(\"Добуток елементів матриць:\")\n",
        "print(product_elements)\n"
      ],
      "metadata": {
        "colab": {
          "base_uri": "https://localhost:8080/"
        },
        "id": "yADZRNmNbd89",
        "outputId": "2849e9c0-c32e-4545-a967-4980fe10c62f"
      },
      "execution_count": null,
      "outputs": [
        {
          "output_type": "stream",
          "name": "stdout",
          "text": [
            "Матриця 1:\n",
            "[[0.55472713 0.17034887 0.64878342]\n",
            " [0.82414887 0.5982308  0.83480623]\n",
            " [0.33813919 0.40299648 0.51788183]]\n",
            "Матриця 2:\n",
            "[[0.5832721  0.64730587 0.72164071]\n",
            " [0.61528826 0.71328487 0.38192905]\n",
            " [0.15542973 0.15792849 0.33734025]]\n",
            "Добуток елементів матриць:\n",
            "[[0.32355686 0.11026783 0.46818853]\n",
            " [0.50708912 0.42670898 0.31883675]\n",
            " [0.05255688 0.06364462 0.17470238]]\n"
          ]
        }
      ]
    },
    {
      "cell_type": "code",
      "source": [
        "'''Завдання 14\n",
        "Створіть матрицю розміром 3x3, заповніть її випадковими дійсними числами в\n",
        "діапазоні від -5 до 5 та знайдіть суму елементів матриці, які більше за їх середнє\n",
        "арифметичне значення.'''\n",
        "\n",
        "import numpy as np\n",
        "\n",
        "matrix = np.random.uniform(-5, 5, (3, 3))\n",
        "\n",
        "mean_value = np.mean(matrix)\n",
        "sum_above_mean = np.sum(matrix[matrix > mean_value])\n",
        "\n",
        "print(\"Матриця:\")\n",
        "print(matrix)\n",
        "print(\"Середнє арифметичне значення:\")\n",
        "print(mean_value)\n",
        "print(\"Сума елементів, які більше за середнє арифметичне значення:\")\n",
        "print(sum_above_mean)\n"
      ],
      "metadata": {
        "colab": {
          "base_uri": "https://localhost:8080/"
        },
        "id": "xWyzonrFbd_I",
        "outputId": "868ad274-080e-49fc-c412-675d681873c2"
      },
      "execution_count": null,
      "outputs": [
        {
          "output_type": "stream",
          "name": "stdout",
          "text": [
            "Матриця:\n",
            "[[-4.49454672  1.12186716 -0.06416052]\n",
            " [-0.15346236 -3.87120648  2.787767  ]\n",
            " [ 4.3867995   1.69692483  2.85135469]]\n",
            "Середнє арифметичне значення:\n",
            "0.47348189948782754\n",
            "Сума елементів, які більше за середнє арифметичне значення:\n",
            "12.844713174080013\n"
          ]
        }
      ]
    },
    {
      "cell_type": "code",
      "source": [
        "'''Завдання 15\n",
        "Створіть матрицю розміром 3x3, заповніть її випадковими дійсними числами в\n",
        "діапазоні від 0 до 1 та знайдіть вектор-стовпчик, що містить найменше ціле значення\n",
        "в кожному рядку матриці.'''\n",
        "\n",
        "import numpy as np\n",
        "\n",
        "matrix = np.random.uniform(0, 1, (3, 3))\n",
        "min_in_rows = np.floor(np.min(matrix, axis=1))\n",
        "\n",
        "print(\"Матриця:\")\n",
        "print(matrix)\n",
        "print(\"Вектор-стовпчик з найменшими цілими значеннями в кожному рядку:\")\n",
        "print(min_in_rows)\n"
      ],
      "metadata": {
        "colab": {
          "base_uri": "https://localhost:8080/"
        },
        "id": "rMsW8zombeB0",
        "outputId": "3e6d7f1c-8056-4b7a-e405-a9c9314fa9f4"
      },
      "execution_count": null,
      "outputs": [
        {
          "output_type": "stream",
          "name": "stdout",
          "text": [
            "Матриця:\n",
            "[[0.57926524 0.94811093 0.61032466]\n",
            " [0.24761678 0.48081797 0.75895966]\n",
            " [0.2011009  0.92704247 0.40934676]]\n",
            "Вектор-стовпчик з найменшими цілими значеннями в кожному рядку:\n",
            "[0. 0. 0.]\n"
          ]
        }
      ]
    },
    {
      "cell_type": "code",
      "source": [
        "'''висновок\n",
        "У результаті виконання лабораторної роботи було створено та оброблено\n",
        "різноманітні масиви та матриці за допомогою бібліотеки NumPy. Я навчився\n",
        "генерувати випадкові числа в заданих діапазонах, виконувати поелементні\n",
        "операції, а також використовувати функції для обчислення статистичних показників\n",
        "та виконання матричних обчислень. Зокрема, було освоєно створення обернених матриць,\n",
        "знаходження добутків матриць і сумування елементів за певними критеріями. Ці\n",
        "навички є основою для подальшого аналізу даних і чисельних обчислень у наукових\n",
        "та інженерних задачах.\n",
        "'''"
      ],
      "metadata": {
        "colab": {
          "base_uri": "https://localhost:8080/",
          "height": 36
        },
        "id": "qTkUsuvsghjD",
        "outputId": "2eb01d43-d1a4-4e78-f486-97ef0f383b9c"
      },
      "execution_count": null,
      "outputs": [
        {
          "output_type": "execute_result",
          "data": {
            "text/plain": [
              "'висновок'"
            ],
            "application/vnd.google.colaboratory.intrinsic+json": {
              "type": "string"
            }
          },
          "metadata": {},
          "execution_count": 18
        }
      ]
    }
  ]
}